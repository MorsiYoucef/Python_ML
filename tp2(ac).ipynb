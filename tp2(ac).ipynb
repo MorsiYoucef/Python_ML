{
 "cells": [
  {
   "cell_type": "code",
   "execution_count": 2,
   "metadata": {},
   "outputs": [
    {
     "name": "stdout",
     "output_type": "stream",
     "text": [
      "Metrics for 'Sentiment':\n",
      "Recall: 0.25, Precision: 0.50, F1-Score: 0.33\n",
      "\n",
      "Metrics for 'No Sentiment':\n",
      "Recall: 0.94, Precision: 0.83, F1-Score: 0.88\n"
     ]
    }
   ],
   "source": [
    "# Confusion matrix values\n",
    "TP_sentiment = 50  # True Positives for \"Sentiment\"\n",
    "FP_sentiment = 50  # False Positives for \"Sentiment\"\n",
    "FN_sentiment = 150 # False Negatives for \"Sentiment\"\n",
    "\n",
    "TP_no_sentiment = 750  # True Positives for \"No Sentiment\"\n",
    "FP_no_sentiment = 150  # False Positives for \"No Sentiment\"\n",
    "FN_no_sentiment = 50   # False Negatives for \"No Sentiment\"\n",
    "\n",
    "# Function to calculate precision, recall, and F1-score\n",
    "def calculate_metrics(tp, fp, fn):\n",
    "    recall = tp / (tp + fn)\n",
    "    precision = tp / (tp + fp)\n",
    "    f1_score = 2 * (precision * recall) / (precision + recall)\n",
    "    return recall, precision, f1_score\n",
    "\n",
    "# Metrics for \"Sentiment\"\n",
    "recall_sentiment, precision_sentiment, f1_sentiment = calculate_metrics(TP_sentiment, FP_sentiment, FN_sentiment)\n",
    "\n",
    "# Metrics for \"No Sentiment\"\n",
    "recall_no_sentiment, precision_no_sentiment, f1_no_sentiment = calculate_metrics(TP_no_sentiment, FP_no_sentiment, FN_no_sentiment)\n",
    "\n",
    "# Print results\n",
    "print(\"Metrics for 'Sentiment':\")\n",
    "print(f\"Recall: {recall_sentiment:.2f}, Precision: {precision_sentiment:.2f}, F1-Score: {f1_sentiment:.2f}\")\n",
    "\n",
    "print(\"\\nMetrics for 'No Sentiment':\")\n",
    "print(f\"Recall: {recall_no_sentiment:.2f}, Precision: {precision_no_sentiment:.2f}, F1-Score: {f1_no_sentiment:.2f}\")\n"
   ]
  },
  {
   "cell_type": "markdown",
   "metadata": {},
   "source": [
    "###le reseaux de neurones car la moyenne et l'ecart type sont minimal"
   ]
  },
  {
   "cell_type": "code",
   "execution_count": 4,
   "metadata": {},
   "outputs": [
    {
     "name": "stdout",
     "output_type": "stream",
     "text": [
      "    Classe d'âge (x_i)  Poids moyen (y_i)    y^2  x_i y_i\n",
      "0                    1                3.5  12.25      3.5\n",
      "1                    2                3.5  12.25      7.0\n",
      "2                    3                3.3  10.89      9.9\n",
      "3                    4                4.4  19.36     17.6\n",
      "4                    5                4.4  19.36     22.0\n",
      "5                    6                4.0  16.00     24.0\n",
      "6                    7                4.2  17.64     29.4\n",
      "7                    8                5.1  26.01     40.8\n",
      "8                    9                5.3  28.09     47.7\n",
      "9                   10                5.5  30.25     55.0\n",
      "10                  11                5.5  30.25     60.5\n",
      "11                  12                6.6  43.56     79.2\n",
      "12                  13                5.7  32.49     74.1\n",
      "Variance of x: 15.166666666666666\n",
      "Variance of y: 1.014102564102564\n",
      "Covariance of x and y: 3.6416666666666666\n"
     ]
    }
   ],
   "source": [
    "import numpy as np\n",
    "import pandas as pd\n",
    "\n",
    "# Given data\n",
    "age_classes = np.arange(1, 14)\n",
    "weights = [3.5, 3.5, 3.3, 4.4, 4.4, 4.0, 4.2, 5.1, 5.3, 5.5, 5.5, 6.6,5.7]\n",
    "\n",
    "# Calculations\n",
    "y_squared = [y**2 for y in weights]\n",
    "xy = [x * y for x, y in zip(age_classes, weights)]\n",
    "\n",
    "# Create a DataFrame\n",
    "df = pd.DataFrame({\n",
    "    \"Classe d'âge (x_i)\": age_classes,\n",
    "    \"Poids moyen (y_i)\": weights,\n",
    "    \"y^2\": y_squared,\n",
    "    \"x_i y_i\": xy\n",
    "})\n",
    "\n",
    "# Display the table\n",
    "print(df)\n",
    "\n",
    "# Calculate variances and covariance\n",
    "mean_x = np.mean(age_classes)\n",
    "mean_y = np.mean(weights)\n",
    "\n",
    "variance_x = np.var(age_classes, ddof=1)  # Sample variance\n",
    "variance_y = np.var(weights, ddof=1)  # Sample variance\n",
    "covariance_xy = np.cov(age_classes, weights, ddof=1)[0, 1]  # Covariance\n",
    "\n",
    "print(f\"Variance of x: {variance_x}\")\n",
    "print(f\"Variance of y: {variance_y}\")\n",
    "print(f\"Covariance of x and y: {covariance_xy}\")\n"
   ]
  },
  {
   "cell_type": "code",
   "execution_count": 10,
   "metadata": {},
   "outputs": [
    {
     "name": "stdout",
     "output_type": "stream",
     "text": [
      "Regression line equation: y = 3.06 + 0.26x\n",
      "    Classe d'âge (x_i)  Poids moyen (y_i)        ŷ  Résidu (e_i)\n",
      "0                    1                3.5  3.312821      0.187179\n",
      "1                    2                3.5  3.568065     -0.068065\n",
      "2                    3                3.3  3.823310     -0.523310\n",
      "3                    4                4.4  4.078555      0.321445\n",
      "4                    5                4.4  4.333800      0.066200\n",
      "5                    6                4.2  4.589044     -0.389044\n",
      "6                    7                5.1  4.844289      0.255711\n",
      "7                    8                5.3  5.099534      0.200466\n",
      "8                    9                5.5  5.354779      0.145221\n",
      "9                   10                5.5  5.610023     -0.110023\n",
      "10                  11                6.2  5.865268      0.334732\n",
      "11                  12                5.7  6.120513     -0.420513\n"
     ]
    },
    {
     "data": {
      "image/png": "[encoded data removed]",
      "text/plain": [
       "<Figure size 800x600 with 1 Axes>"
      ]
     },
     "metadata": {},
     "output_type": "display_data"
    }
   ],
   "source": [
    "import numpy as np\n",
    "import pandas as pd\n",
    "import matplotlib.pyplot as plt\n",
    "\n",
    "# Given data\n",
    "age_classes = np.array([1, 2, 3, 4, 5, 6, 7, 8, 9, 10, 11, 12])  # x_i\n",
    "weights = np.array([3.5, 3.5, 3.3, 4.4, 4.4, 4.2, 5.1, 5.3, 5.5, 5.5, 6.2, 5.7])  # y_i\n",
    "\n",
    "# Step 1: Compute means of x and y\n",
    "mean_x = np.mean(age_classes)\n",
    "mean_y = np.mean(weights)\n",
    "\n",
    "# Step 2: Compute slope (b) and intercept (a)\n",
    "cov_xy = np.sum((age_classes - mean_x) * (weights - mean_y))  # Covariance\n",
    "var_x = np.sum((age_classes - mean_x)**2)  # Variance\n",
    "b = cov_xy / var_x  # Slope\n",
    "a = mean_y - b * mean_x  # Intercept\n",
    "\n",
    "# Step 3: Regression line equation\n",
    "print(f\"Regression line equation: y = {a:.2f} + {b:.2f}x\")\n",
    "\n",
    "# Step 4: Compute predicted values (y_hat) and residuals (e_i)\n",
    "y_hat = a + b * age_classes\n",
    "residuals = weights - y_hat\n",
    "\n",
    "# Create a DataFrame for the results\n",
    "df = pd.DataFrame({\n",
    "    \"Classe d'âge (x_i)\": age_classes,\n",
    "    \"Poids moyen (y_i)\": weights,\n",
    "    \"ŷ\": y_hat,\n",
    "    \"Résidu (e_i)\": residuals\n",
    "})\n",
    "\n",
    "\n",
    "print(df)\n",
    "\n",
    "# Step 5: Plot residuals\n",
    "plt.figure(figsize=(8, 6))\n",
    "plt.scatter(age_classes, residuals, color='blue', label=\"Résidus (e_i)\")\n",
    "plt.axhline(0, color='red', linestyle='--', label=\"Ligne de base (0)\")\n",
    "plt.title(\"Résidus en fonction des classes d'âge\")\n",
    "plt.xlabel(\"Classe d'âge (x_i)\")\n",
    "plt.ylabel(\"Résidus (e_i)\")\n",
    "plt.legend()\n",
    "plt.show()\n"
   ]
  }
 ],
 "metadata": {
  "kernelspec": {
   "display_name": "base",
   "language": "python",
   "name": "python3"
  },
  "language_info": {
   "codemirror_mode": {
    "name": "ipython",
    "version": 3
   },
   "file_extension": ".py",
   "mimetype": "text/x-python",
   "name": "python",
   "nbconvert_exporter": "python",
   "pygments_lexer": "ipython3",
   "version": "3.11.5"
  }
 },
 "nbformat": 4,
 "nbformat_minor": 2
}
