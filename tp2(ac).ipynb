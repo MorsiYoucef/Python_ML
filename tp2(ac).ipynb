{
 "cells": [
  {
   "cell_type": "code",
   "execution_count": 2,
   "metadata": {},
   "outputs": [
    {
     "name": "stdout",
     "output_type": "stream",
     "text": [
      "Metrics for 'Sentiment':\n",
      "Recall: 0.25, Precision: 0.50, F1-Score: 0.33\n",
      "\n",
      "Metrics for 'No Sentiment':\n",
      "Recall: 0.94, Precision: 0.83, F1-Score: 0.88\n"
     ]
    }
   ],
   "source": [
    "# Confusion matrix values\n",
    "TP_sentiment = 50  # True Positives for \"Sentiment\"\n",
    "FP_sentiment = 50  # False Positives for \"Sentiment\"\n",
    "FN_sentiment = 150 # False Negatives for \"Sentiment\"\n",
    "\n",
    "TP_no_sentiment = 750  # True Positives for \"No Sentiment\"\n",
    "FP_no_sentiment = 150  # False Positives for \"No Sentiment\"\n",
    "FN_no_sentiment = 50   # False Negatives for \"No Sentiment\"\n",
    "\n",
    "# Function to calculate precision, recall, and F1-score\n",
    "def calculate_metrics(tp, fp, fn):\n",
    "    recall = tp / (tp + fn)\n",
    "    precision = tp / (tp + fp)\n",
    "    f1_score = 2 * (precision * recall) / (precision + recall)\n",
    "    return recall, precision, f1_score\n",
    "\n",
    "# Metrics for \"Sentiment\"\n",
    "recall_sentiment, precision_sentiment, f1_sentiment = calculate_metrics(TP_sentiment, FP_sentiment, FN_sentiment)\n",
    "\n",
    "# Metrics for \"No Sentiment\"\n",
    "recall_no_sentiment, precision_no_sentiment, f1_no_sentiment = calculate_metrics(TP_no_sentiment, FP_no_sentiment, FN_no_sentiment)\n",
    "\n",
    "# Print results\n",
    "print(\"Metrics for 'Sentiment':\")\n",
    "print(f\"Recall: {recall_sentiment:.2f}, Precision: {precision_sentiment:.2f}, F1-Score: {f1_sentiment:.2f}\")\n",
    "\n",
    "print(\"\\nMetrics for 'No Sentiment':\")\n",
    "print(f\"Recall: {recall_no_sentiment:.2f}, Precision: {precision_no_sentiment:.2f}, F1-Score: {f1_no_sentiment:.2f}\")\n"
   ]
  },
  {
   "cell_type": "code",
   "execution_count": null,
   "metadata": {},
   "outputs": [],
   "source": []
  }
 ],
 "metadata": {
  "kernelspec": {
   "display_name": "base",
   "language": "python",
   "name": "python3"
  },
  "language_info": {
   "codemirror_mode": {
    "name": "ipython",
    "version": 3
   },
   "file_extension": ".py",
   "mimetype": "text/x-python",
   "name": "python",
   "nbconvert_exporter": "python",
   "pygments_lexer": "ipython3",
   "version": "3.11.5"
  }
 },
 "nbformat": 4,
 "nbformat_minor": 2
}
